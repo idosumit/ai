{
 "cells": [
  {
   "cell_type": "markdown",
   "metadata": {},
   "source": [
    "### Derivative of a simple function with one input"
   ]
  },
  {
   "cell_type": "code",
   "execution_count": 1,
   "metadata": {},
   "outputs": [],
   "source": [
    "import math\n",
    "import numpy as np\n",
    "import matplotlib.pyplot as plt\n",
    "%matplotlib inline"
   ]
  },
  {
   "cell_type": "code",
   "execution_count": 2,
   "metadata": {},
   "outputs": [],
   "source": [
    "def f(x):\n",
    "    return 3*x**2 - 4*x + 5 # 3x^2 - 4x + 5"
   ]
  },
  {
   "cell_type": "code",
   "execution_count": 3,
   "metadata": {},
   "outputs": [
    {
     "data": {
      "text/plain": [
       "20.0"
      ]
     },
     "execution_count": 3,
     "metadata": {},
     "output_type": "execute_result"
    }
   ],
   "source": [
    "f(3.0)"
   ]
  },
  {
   "cell_type": "code",
   "execution_count": 4,
   "metadata": {},
   "outputs": [
    {
     "data": {
      "text/plain": [
       "array([-5.  , -4.75, -4.5 , -4.25, -4.  , -3.75, -3.5 , -3.25, -3.  ,\n",
       "       -2.75, -2.5 , -2.25, -2.  , -1.75, -1.5 , -1.25, -1.  , -0.75,\n",
       "       -0.5 , -0.25,  0.  ,  0.25,  0.5 ,  0.75,  1.  ,  1.25,  1.5 ,\n",
       "        1.75,  2.  ,  2.25,  2.5 ,  2.75,  3.  ,  3.25,  3.5 ,  3.75,\n",
       "        4.  ,  4.25,  4.5 ,  4.75])"
      ]
     },
     "execution_count": 4,
     "metadata": {},
     "output_type": "execute_result"
    }
   ],
   "source": [
    "# A set of scalar values to make a numpy array\n",
    "xs = np.arange(-5, 5, 0.25) # -5 to 5 (not including 5) with steps of 0.25\n",
    "xs # read as \"exes\" as in plural of x"
   ]
  },
  {
   "cell_type": "code",
   "execution_count": 5,
   "metadata": {},
   "outputs": [
    {
     "data": {
      "text/plain": [
       "array([100.    ,  91.6875,  83.75  ,  76.1875,  69.    ,  62.1875,\n",
       "        55.75  ,  49.6875,  44.    ,  38.6875,  33.75  ,  29.1875,\n",
       "        25.    ,  21.1875,  17.75  ,  14.6875,  12.    ,   9.6875,\n",
       "         7.75  ,   6.1875,   5.    ,   4.1875,   3.75  ,   3.6875,\n",
       "         4.    ,   4.6875,   5.75  ,   7.1875,   9.    ,  11.1875,\n",
       "        13.75  ,  16.6875,  20.    ,  23.6875,  27.75  ,  32.1875,\n",
       "        37.    ,  42.1875,  47.75  ,  53.6875])"
      ]
     },
     "execution_count": 5,
     "metadata": {},
     "output_type": "execute_result"
    }
   ],
   "source": [
    "ys = f(xs)\n",
    "ys # read as \"ys\" as in plural of y"
   ]
  },
  {
   "cell_type": "markdown",
   "metadata": {},
   "source": [
    "#### Plotting this wit matplotlip"
   ]
  },
  {
   "cell_type": "code",
   "execution_count": 6,
   "metadata": {},
   "outputs": [
    {
     "data": {
      "text/plain": [
       "[<matplotlib.lines.Line2D at 0x107a33ec0>]"
      ]
     },
     "execution_count": 6,
     "metadata": {},
     "output_type": "execute_result"
    },
    {
     "data": {
      "image/png": "[encoded data removed]",
      "text/plain": [
       "<Figure size 640x480 with 1 Axes>"
      ]
     },
     "metadata": {},
     "output_type": "display_data"
    }
   ],
   "source": [
    "plt.plot(xs, ys) # a nice parabola"
   ]
  },
  {
   "attachments": {
    "image.png": {
     "image/png": "[encoded data removed]"
    }
   },
   "cell_type": "markdown",
   "metadata": {},
   "source": [
    "#### Evaluating the derivative numerically\n",
    "![image.png](attachment:image.png)"
   ]
  },
  {
   "cell_type": "code",
   "execution_count": 7,
   "metadata": {},
   "outputs": [
    {
     "data": {
      "text/plain": [
       "0.0"
      ]
     },
     "execution_count": 7,
     "metadata": {},
     "output_type": "execute_result"
    }
   ],
   "source": [
    "h = 0.000000001 ## that slight change that can manipulate our function\n",
    "x = 2/3\n",
    "# f(x + h) - f(x) --> (this is how much our function responded)\n",
    "(f(x + h) - f(x)) / h # normalizing the rise over run (aka change in y divided by change in x {in this case it's h}), basically the slope! \n",
    "\n",
    "# note: h is often called \"epsilon\""
   ]
  },
  {
   "cell_type": "markdown",
   "metadata": {},
   "source": [
    "#### Getting more complex here"
   ]
  },
  {
   "cell_type": "code",
   "execution_count": 8,
   "metadata": {},
   "outputs": [
    {
     "name": "stdout",
     "output_type": "stream",
     "text": [
      "4.0\n"
     ]
    }
   ],
   "source": [
    "a = 2.0\n",
    "b = -3.0\n",
    "c = 10.0\n",
    "d = a*b + c\n",
    "print(d)"
   ]
  },
  {
   "cell_type": "code",
   "execution_count": 9,
   "metadata": {},
   "outputs": [
    {
     "name": "stdout",
     "output_type": "stream",
     "text": [
      "d1 4.0\n",
      "d2 3.9999699999999994\n",
      "slope -3.000000000064062\n"
     ]
    }
   ],
   "source": [
    "# what is the derivative of d w.r.t. a, b, and c?\n",
    "h = 0.00001\n",
    "\n",
    "# inputs\n",
    "a = 2.0\n",
    "b = -3.0\n",
    "c = 10.0\n",
    "\n",
    "d1 = a*b + c #d1 is a function, we can understand it as f(a,b,c)\n",
    "a += h\n",
    "d2 = a*b + c # a is slightly bumped up with h for this\n",
    "\n",
    "print('d1', d1)\n",
    "print('d2', d2)\n",
    "print('slope', (d2 - d1) / h) # d2 - d1 is basically how much the function increased when we bumped the input (a) by a tiny amount (h)"
   ]
  },
  {
   "cell_type": "markdown",
   "metadata": {},
   "source": [
    "This is a numerical derivative. The primary reason for calculating the slope between two functions (or, more precisely, the change in a function's output with respect to a small change in one of its inputs) is to approximate the derivative. In calculus, the derivative of a function at a point measures how the function's output changes as its input changes. This is crucial in many areas, including machine learning, optimization, and numerical analysis.\n",
    "\n",
    "In the code example, we are calculating a numerical derivative. This approach is often used when:\n",
    "- The function is too complex to differentiate analytically.\n",
    "- We want to approximate the derivative for a given set of data points.\n",
    "\n",
    "Let's take a look at some other changes below:"
   ]
  },
  {
   "cell_type": "code",
   "execution_count": 10,
   "metadata": {},
   "outputs": [
    {
     "name": "stdout",
     "output_type": "stream",
     "text": [
      "d1 4.0\n",
      "d2 4.00002\n",
      "slope 2.0000000000131024\n"
     ]
    }
   ],
   "source": [
    "## bumping b now\n",
    "h = 0.00001\n",
    "\n",
    "# inputs\n",
    "a = 2.0\n",
    "b = -3.0\n",
    "c = 10.0\n",
    "\n",
    "d1 = a*b + c\n",
    "b += h\n",
    "d2 = a*b + c\n",
    "\n",
    "print('d1', d1)\n",
    "print('d2', d2)\n",
    "print('slope', (d2 - d1) / h)"
   ]
  },
  {
   "cell_type": "code",
   "execution_count": 11,
   "metadata": {},
   "outputs": [
    {
     "name": "stdout",
     "output_type": "stream",
     "text": [
      "d1 4.0\n",
      "d2 4.00001\n",
      "slope 0.9999999999621422\n"
     ]
    }
   ],
   "source": [
    "# bumping c\n",
    "## bumping b now\n",
    "h = 0.00001\n",
    "\n",
    "# inputs\n",
    "a = 2.0\n",
    "b = -3.0\n",
    "c = 10.0\n",
    "\n",
    "d1 = a*b + c\n",
    "c += h\n",
    "d2 = a*b + c\n",
    "\n",
    "print('d1', d1)\n",
    "print('d2', d2)\n",
    "print('slope', (d2 - d1) / h)"
   ]
  },
  {
   "cell_type": "markdown",
   "metadata": {},
   "source": [
    "### NN from here"
   ]
  },
  {
   "cell_type": "markdown",
   "metadata": {},
   "source": [
    "#### Building a value object"
   ]
  },
  {
   "cell_type": "markdown",
   "metadata": {},
   "source": [
    "Here, init and repr are operators in the object. `__init__` is an initializer. `__repr__` means  `printable representation` of the given object.\n",
    "\n",
    "We need to have a connective tissue of this expression. We need to know and keep pointers about what values produce other values. For this, we introuduce a new variable `_children`, a tuple (for now).\n",
    "\n",
    "The 'operation' that created the resulting value will be denoted by `_op`. For addition, it will return `+`.\n",
    "\n",
    "We will also add labels so that we'll know what variables are where. Representation: `label`"
   ]
  },
  {
   "cell_type": "code",
   "execution_count": 12,
   "metadata": {},
   "outputs": [
    {
     "data": {
      "text/plain": [
       "Value(data=-8.0)"
      ]
     },
     "execution_count": 12,
     "metadata": {},
     "output_type": "execute_result"
    }
   ],
   "source": [
    "class Value:\n",
    "\n",
    "    def __init__(self, data, _children=(), _op='', label=''):\n",
    "        self.data = data # takes a single scalar value that it wraps and keeps track of\n",
    "        self._prev = set(_children) #_prev is a set\n",
    "        self._op = _op\n",
    "        self.label = label\n",
    "\n",
    "    def __repr__(self): # this is a wrapper. providing us a nicer looking printout.\n",
    "        return f\"Value(data={self.data})\"\n",
    "    \n",
    "    def __add__(self, other):\n",
    "        out = Value(self.data + other.data, (self, other), '+') # '+' here is not the + for numbers, it's a floating point + addition\n",
    "        return out\n",
    "    \n",
    "    def __mul__(self, other):\n",
    "        out = Value(self.data * other.data, (self, other), '*')\n",
    "        return out\n",
    "    \n",
    "# example:\n",
    "a = Value(data=2.0, label='a')\n",
    "b = Value(-3.0, label='b')\n",
    "# a + b is basically doing a.__add__(b) here. Output: Value(data=-1.0)\n",
    "c = Value (10.0, label='c')\n",
    "e = a*b; e.label = 'e'\n",
    "d = e + c; d.label = 'd'\n",
    "f = Value(-2.0, label='f')\n",
    "L = d * f; L.label = 'L' #output of our graph\n",
    "L"
   ]
  },
  {
   "cell_type": "code",
   "execution_count": 13,
   "metadata": {},
   "outputs": [],
   "source": [
    "## some scary ass code we don't need to understand for now, for visualization\n",
    "from graphviz import Digraph\n",
    "\n",
    "def trace(root):\n",
    "  # builds a set of all nodes and edges in a graph\n",
    "  nodes, edges = set(), set()\n",
    "  def build(v):\n",
    "    if v not in nodes:\n",
    "      nodes.add(v)\n",
    "      for child in v._prev:\n",
    "        edges.add((child, v))\n",
    "        build(child)\n",
    "  build(root)\n",
    "  return nodes, edges\n",
    "\n",
    "def draw_dot(root):\n",
    "  dot = Digraph(format='svg', graph_attr={'rankdir': 'LR'}) # LR = left to right\n",
    "  \n",
    "  nodes, edges = trace(root)\n",
    "  for n in nodes:\n",
    "    uid = str(id(n))\n",
    "    # for any value in the graph, create a rectangular ('record') node for it\n",
    "    dot.node(name = uid, label = \"{ %s | data %.4f }\" % (n.label, n.data), shape='record')\n",
    "    if n._op:\n",
    "      # if this value is a result of some operation, create an op node for it\n",
    "      dot.node(name = uid + n._op, label = n._op)\n",
    "      # and connect this node to it\n",
    "      dot.edge(uid + n._op, uid)\n",
    "\n",
    "  for n1, n2 in edges:\n",
    "    # connect n1 to the op node of n2\n",
    "    dot.edge(str(id(n1)), str(id(n2)) + n2._op)\n",
    "\n",
    "  return dot"
   ]
  },
  {
   "cell_type": "code",
   "execution_count": 14,
   "metadata": {},
   "outputs": [
    {
     "data": {
      "image/svg+xml": [
       "<?xml version=\"1.0\" encoding=\"UTF-8\" standalone=\"no\"?>\n",
       "<!DOCTYPE svg PUBLIC \"-//W3C//DTD SVG 1.1//EN\"\n",
       " \"http://www.w3.org/Graphics/SVG/1.1/DTD/svg11.dtd\">\n",
       "<!-- Generated by graphviz version 12.0.0 (20240704.0754)\n",
       " -->\n",
       "<!-- Pages: 1 -->\n",
       "<svg width=\"815pt\" height=\"156pt\"\n",
       " viewBox=\"0.00 0.00 814.75 156.00\" xmlns=\"http://www.w3.org/2000/svg\" xmlns:xlink=\"http://www.w3.org/1999/xlink\">\n",
       "<g id=\"graph0\" class=\"graph\" transform=\"scale(1 1) rotate(0) translate(4 152)\">\n",
       "<polygon fill=\"white\" stroke=\"none\" points=\"-4,4 -4,-152 810.75,-152 810.75,4 -4,4\"/>\n",
       "<!-- 4422871056 -->\n",
       "<g id=\"node1\" class=\"node\">\n",
       "<title>4422871056</title>\n",
       "<polygon fill=\"none\" stroke=\"black\" points=\"698.25,-27.5 698.25,-63.5 806.75,-63.5 806.75,-27.5 698.25,-27.5\"/>\n",
       "<text text-anchor=\"middle\" x=\"710.38\" y=\"-40.7\" font-family=\"Times,serif\" font-size=\"14.00\">L</text>\n",
       "<polyline fill=\"none\" stroke=\"black\" points=\"722.5,-28 722.5,-63.5\"/>\n",
       "<text text-anchor=\"middle\" x=\"764.62\" y=\"-40.7\" font-family=\"Times,serif\" font-size=\"14.00\">data &#45;8.0000</text>\n",
       "</g>\n",
       "<!-- 4422871056* -->\n",
       "<g id=\"node2\" class=\"node\">\n",
       "<title>4422871056*</title>\n",
       "<ellipse fill=\"none\" stroke=\"black\" cx=\"635.25\" cy=\"-45.5\" rx=\"27\" ry=\"18\"/>\n",
       "<text text-anchor=\"middle\" x=\"635.25\" y=\"-40.45\" font-family=\"Times,serif\" font-size=\"14.00\">*</text>\n",
       "</g>\n",
       "<!-- 4422871056*&#45;&gt;4422871056 -->\n",
       "<g id=\"edge1\" class=\"edge\">\n",
       "<title>4422871056*&#45;&gt;4422871056</title>\n",
       "<path fill=\"none\" stroke=\"black\" d=\"M662.69,-45.5C669.91,-45.5 678.06,-45.5 686.43,-45.5\"/>\n",
       "<polygon fill=\"black\" stroke=\"black\" points=\"686.39,-49 696.39,-45.5 686.39,-42 686.39,-49\"/>\n",
       "</g>\n",
       "<!-- 4423451712 -->\n",
       "<g id=\"node3\" class=\"node\">\n",
       "<title>4423451712</title>\n",
       "<polygon fill=\"none\" stroke=\"black\" points=\"2.62,-111.5 2.62,-147.5 104.38,-147.5 104.38,-111.5 2.62,-111.5\"/>\n",
       "<text text-anchor=\"middle\" x=\"13.62\" y=\"-124.7\" font-family=\"Times,serif\" font-size=\"14.00\">a</text>\n",
       "<polyline fill=\"none\" stroke=\"black\" points=\"24.62,-112 24.62,-147.5\"/>\n",
       "<text text-anchor=\"middle\" x=\"64.5\" y=\"-124.7\" font-family=\"Times,serif\" font-size=\"14.00\">data 2.0000</text>\n",
       "</g>\n",
       "<!-- 4421648208* -->\n",
       "<g id=\"node8\" class=\"node\">\n",
       "<title>4421648208*</title>\n",
       "<ellipse fill=\"none\" stroke=\"black\" cx=\"170\" cy=\"-101.5\" rx=\"27\" ry=\"18\"/>\n",
       "<text text-anchor=\"middle\" x=\"170\" y=\"-96.45\" font-family=\"Times,serif\" font-size=\"14.00\">*</text>\n",
       "</g>\n",
       "<!-- 4423451712&#45;&gt;4421648208* -->\n",
       "<g id=\"edge5\" class=\"edge\">\n",
       "<title>4423451712&#45;&gt;4421648208*</title>\n",
       "<path fill=\"none\" stroke=\"black\" d=\"M104.72,-117.22C114.35,-114.86 124.26,-112.44 133.32,-110.23\"/>\n",
       "<polygon fill=\"black\" stroke=\"black\" points=\"133.9,-113.69 142.78,-107.91 132.24,-106.89 133.9,-113.69\"/>\n",
       "</g>\n",
       "<!-- 4423452816 -->\n",
       "<g id=\"node4\" class=\"node\">\n",
       "<title>4423452816</title>\n",
       "<polygon fill=\"none\" stroke=\"black\" points=\"0,-56.5 0,-92.5 107,-92.5 107,-56.5 0,-56.5\"/>\n",
       "<text text-anchor=\"middle\" x=\"11.38\" y=\"-69.7\" font-family=\"Times,serif\" font-size=\"14.00\">b</text>\n",
       "<polyline fill=\"none\" stroke=\"black\" points=\"22.75,-57 22.75,-92.5\"/>\n",
       "<text text-anchor=\"middle\" x=\"64.88\" y=\"-69.7\" font-family=\"Times,serif\" font-size=\"14.00\">data &#45;3.0000</text>\n",
       "</g>\n",
       "<!-- 4423452816&#45;&gt;4421648208* -->\n",
       "<g id=\"edge4\" class=\"edge\">\n",
       "<title>4423452816&#45;&gt;4421648208*</title>\n",
       "<path fill=\"none\" stroke=\"black\" d=\"M107.39,-86.97C116.08,-89.02 124.89,-91.1 133.04,-93.02\"/>\n",
       "<polygon fill=\"black\" stroke=\"black\" points=\"132.01,-96.37 142.55,-95.26 133.62,-89.56 132.01,-96.37\"/>\n",
       "</g>\n",
       "<!-- 4423389440 -->\n",
       "<g id=\"node5\" class=\"node\">\n",
       "<title>4423389440</title>\n",
       "<polygon fill=\"none\" stroke=\"black\" points=\"468.62,-55.5 468.62,-91.5 571.12,-91.5 571.12,-55.5 468.62,-55.5\"/>\n",
       "<text text-anchor=\"middle\" x=\"480\" y=\"-68.7\" font-family=\"Times,serif\" font-size=\"14.00\">d</text>\n",
       "<polyline fill=\"none\" stroke=\"black\" points=\"491.38,-56 491.38,-91.5\"/>\n",
       "<text text-anchor=\"middle\" x=\"531.25\" y=\"-68.7\" font-family=\"Times,serif\" font-size=\"14.00\">data 4.0000</text>\n",
       "</g>\n",
       "<!-- 4423389440&#45;&gt;4422871056* -->\n",
       "<g id=\"edge8\" class=\"edge\">\n",
       "<title>4423389440&#45;&gt;4422871056*</title>\n",
       "<path fill=\"none\" stroke=\"black\" d=\"M571.59,-60.97C580.67,-58.73 589.96,-56.44 598.51,-54.33\"/>\n",
       "<polygon fill=\"black\" stroke=\"black\" points=\"599.28,-57.74 608.14,-51.95 597.6,-50.95 599.28,-57.74\"/>\n",
       "</g>\n",
       "<!-- 4423389440+ -->\n",
       "<g id=\"node6\" class=\"node\">\n",
       "<title>4423389440+</title>\n",
       "<ellipse fill=\"none\" stroke=\"black\" cx=\"404.5\" cy=\"-73.5\" rx=\"27\" ry=\"18\"/>\n",
       "<text text-anchor=\"middle\" x=\"404.5\" y=\"-68.45\" font-family=\"Times,serif\" font-size=\"14.00\">+</text>\n",
       "</g>\n",
       "<!-- 4423389440+&#45;&gt;4423389440 -->\n",
       "<g id=\"edge2\" class=\"edge\">\n",
       "<title>4423389440+&#45;&gt;4423389440</title>\n",
       "<path fill=\"none\" stroke=\"black\" d=\"M431.8,-73.5C439.43,-73.5 448.11,-73.5 456.96,-73.5\"/>\n",
       "<polygon fill=\"black\" stroke=\"black\" points=\"456.68,-77 466.68,-73.5 456.68,-70 456.68,-77\"/>\n",
       "</g>\n",
       "<!-- 4421648208 -->\n",
       "<g id=\"node7\" class=\"node\">\n",
       "<title>4421648208</title>\n",
       "<polygon fill=\"none\" stroke=\"black\" points=\"234.12,-83.5 234.12,-119.5 340.38,-119.5 340.38,-83.5 234.12,-83.5\"/>\n",
       "<text text-anchor=\"middle\" x=\"245.12\" y=\"-96.7\" font-family=\"Times,serif\" font-size=\"14.00\">e</text>\n",
       "<polyline fill=\"none\" stroke=\"black\" points=\"256.12,-84 256.12,-119.5\"/>\n",
       "<text text-anchor=\"middle\" x=\"298.25\" y=\"-96.7\" font-family=\"Times,serif\" font-size=\"14.00\">data &#45;6.0000</text>\n",
       "</g>\n",
       "<!-- 4421648208&#45;&gt;4423389440+ -->\n",
       "<g id=\"edge7\" class=\"edge\">\n",
       "<title>4421648208&#45;&gt;4423389440+</title>\n",
       "<path fill=\"none\" stroke=\"black\" d=\"M340.82,-88.73C349.88,-86.53 359.11,-84.29 367.6,-82.22\"/>\n",
       "<polygon fill=\"black\" stroke=\"black\" points=\"368.27,-85.66 377.16,-79.9 366.62,-78.86 368.27,-85.66\"/>\n",
       "</g>\n",
       "<!-- 4421648208*&#45;&gt;4421648208 -->\n",
       "<g id=\"edge3\" class=\"edge\">\n",
       "<title>4421648208*&#45;&gt;4421648208</title>\n",
       "<path fill=\"none\" stroke=\"black\" d=\"M197.44,-101.5C205.1,-101.5 213.82,-101.5 222.73,-101.5\"/>\n",
       "<polygon fill=\"black\" stroke=\"black\" points=\"222.53,-105 232.53,-101.5 222.53,-98 222.53,-105\"/>\n",
       "</g>\n",
       "<!-- 4423584656 -->\n",
       "<g id=\"node9\" class=\"node\">\n",
       "<title>4423584656</title>\n",
       "<polygon fill=\"none\" stroke=\"black\" points=\"467.5,-0.5 467.5,-36.5 572.25,-36.5 572.25,-0.5 467.5,-0.5\"/>\n",
       "<text text-anchor=\"middle\" x=\"477.75\" y=\"-13.7\" font-family=\"Times,serif\" font-size=\"14.00\">f</text>\n",
       "<polyline fill=\"none\" stroke=\"black\" points=\"488,-1 488,-36.5\"/>\n",
       "<text text-anchor=\"middle\" x=\"530.12\" y=\"-13.7\" font-family=\"Times,serif\" font-size=\"14.00\">data &#45;2.0000</text>\n",
       "</g>\n",
       "<!-- 4423584656&#45;&gt;4422871056* -->\n",
       "<g id=\"edge9\" class=\"edge\">\n",
       "<title>4423584656&#45;&gt;4422871056*</title>\n",
       "<path fill=\"none\" stroke=\"black\" d=\"M572.59,-30.81C581.32,-32.89 590.21,-35.01 598.42,-36.97\"/>\n",
       "<polygon fill=\"black\" stroke=\"black\" points=\"597.48,-40.34 608.02,-39.25 599.1,-33.53 597.48,-40.34\"/>\n",
       "</g>\n",
       "<!-- 4423386032 -->\n",
       "<g id=\"node10\" class=\"node\">\n",
       "<title>4423386032</title>\n",
       "<polygon fill=\"none\" stroke=\"black\" points=\"233,-28.5 233,-64.5 341.5,-64.5 341.5,-28.5 233,-28.5\"/>\n",
       "<text text-anchor=\"middle\" x=\"244\" y=\"-41.7\" font-family=\"Times,serif\" font-size=\"14.00\">c</text>\n",
       "<polyline fill=\"none\" stroke=\"black\" points=\"255,-29 255,-64.5\"/>\n",
       "<text text-anchor=\"middle\" x=\"298.25\" y=\"-41.7\" font-family=\"Times,serif\" font-size=\"14.00\">data 10.0000</text>\n",
       "</g>\n",
       "<!-- 4423386032&#45;&gt;4423389440+ -->\n",
       "<g id=\"edge6\" class=\"edge\">\n",
       "<title>4423386032&#45;&gt;4423389440+</title>\n",
       "<path fill=\"none\" stroke=\"black\" d=\"M341.83,-59.05C350.54,-61.09 359.37,-63.16 367.53,-65.07\"/>\n",
       "<polygon fill=\"black\" stroke=\"black\" points=\"366.52,-68.43 377.05,-67.3 368.11,-61.61 366.52,-68.43\"/>\n",
       "</g>\n",
       "</g>\n",
       "</svg>\n"
      ],
      "text/plain": [
       "<graphviz.graphs.Digraph at 0x107aa9be0>"
      ]
     },
     "execution_count": 14,
     "metadata": {},
     "output_type": "execute_result"
    }
   ],
   "source": [
    "draw_dot(L)"
   ]
  },
  {
   "cell_type": "markdown",
   "metadata": {},
   "source": [
    "## Backpropagation\n",
    "\n",
    "The above visualization is visualizing the forward pass (output is -8). \n",
    "\n",
    "Now, we want to run backpropagation, esentially start from L, travel the reverse direction, and calculate the gradient of all the intermediate values along the way. \n",
    "\n",
    "In other words, for every single intermediate value, we will be calculating the derivative of that node w.r.t. L."
   ]
  },
  {
   "cell_type": "markdown",
   "metadata": {},
   "source": [
    "---\n",
    "\n",
    "We are now going to create a variable inside the Value class that maintains the derivative of L w.r.t. that value. We're adding this as `self.grad = 0` => means the default gradient = 0. Basically initializing the gradient."
   ]
  },
  {
   "cell_type": "code",
   "execution_count": 15,
   "metadata": {},
   "outputs": [
    {
     "data": {
      "text/plain": [
       "Value(data=-8.0)"
      ]
     },
     "execution_count": 15,
     "metadata": {},
     "output_type": "execute_result"
    }
   ],
   "source": [
    "class Value:\n",
    "\n",
    "    def __init__(self, data, _children=(), _op='', label=''):\n",
    "        self.data = data # takes a single scalar value that it wraps and keeps track of\n",
    "        self.grad = 0.0\n",
    "        self._prev = set(_children) #_prev is a set\n",
    "        self._op = _op\n",
    "        self.label = label\n",
    "\n",
    "    def __repr__(self): # this is a wrapper. providing us a nicer looking printout.\n",
    "        return f\"Value(data={self.data})\"\n",
    "    \n",
    "    def __add__(self, other):\n",
    "        out = Value(self.data + other.data, (self, other), '+') # '+' here is not the + for numbers, it's a floating point + addition\n",
    "        return out\n",
    "    \n",
    "    def __mul__(self, other):\n",
    "        out = Value(self.data * other.data, (self, other), '*')\n",
    "        return out\n",
    "    \n",
    "# example:\n",
    "a = Value(data=2.0, label='a')\n",
    "b = Value(-3.0, label='b')\n",
    "# a + b is basically doing a.__add__(b) here. Output: Value(data=-1.0)\n",
    "c = Value (10.0, label='c')\n",
    "e = a*b; e.label = 'e'\n",
    "d = e + c; d.label = 'd'\n",
    "f = Value(-2.0, label='f')\n",
    "L = d * f; L.label = 'L' #output of our graph\n",
    "L"
   ]
  },
  {
   "cell_type": "code",
   "execution_count": 16,
   "metadata": {},
   "outputs": [],
   "source": [
    "## Visualizing this\n",
    "## some scary ass code we don't need to understand for now, for visualization\n",
    "from graphviz import Digraph\n",
    "\n",
    "def trace(root):\n",
    "  # builds a set of all nodes and edges in a graph\n",
    "  nodes, edges = set(), set()\n",
    "  def build(v):\n",
    "    if v not in nodes:\n",
    "      nodes.add(v)\n",
    "      for child in v._prev:\n",
    "        edges.add((child, v))\n",
    "        build(child)\n",
    "  build(root)\n",
    "  return nodes, edges\n",
    "\n",
    "def draw_dot(root):\n",
    "  dot = Digraph(format='svg', graph_attr={'rankdir': 'LR'}) # LR = left to right\n",
    "  \n",
    "  nodes, edges = trace(root)\n",
    "  for n in nodes:\n",
    "    uid = str(id(n))\n",
    "    # for any value in the graph, create a rectangular ('record') node for it\n",
    "    dot.node(name = uid, label = \"{ %s | data %.4f | grad %.4f }\" % (n.label, n.data, n.grad), shape='record')\n",
    "    if n._op:\n",
    "      # if this value is a result of some operation, create an op node for it\n",
    "      dot.node(name = uid + n._op, label = n._op)\n",
    "      # and connect this node to it\n",
    "      dot.edge(uid + n._op, uid)\n",
    "\n",
    "  for n1, n2 in edges:\n",
    "    # connect n1 to the op node of n2\n",
    "    dot.edge(str(id(n1)), str(id(n2)) + n2._op)\n",
    "\n",
    "  return dot"
   ]
  },
  {
   "cell_type": "code",
   "execution_count": 17,
   "metadata": {},
   "outputs": [
    {
     "data": {
      "image/svg+xml": [
       "<?xml version=\"1.0\" encoding=\"UTF-8\" standalone=\"no\"?>\n",
       "<!DOCTYPE svg PUBLIC \"-//W3C//DTD SVG 1.1//EN\"\n",
       " \"http://www.w3.org/Graphics/SVG/1.1/DTD/svg11.dtd\">\n",
       "<!-- Generated by graphviz version 12.0.0 (20240704.0754)\n",
       " -->\n",
       "<!-- Pages: 1 -->\n",
       "<svg width=\"1140pt\" height=\"154pt\"\n",
       " viewBox=\"0.00 0.00 1139.75 154.00\" xmlns=\"http://www.w3.org/2000/svg\" xmlns:xlink=\"http://www.w3.org/1999/xlink\">\n",
       "<g id=\"graph0\" class=\"graph\" transform=\"scale(1 1) rotate(0) translate(4 150)\">\n",
       "<polygon fill=\"white\" stroke=\"none\" points=\"-4,4 -4,-150 1135.75,-150 1135.75,4 -4,4\"/>\n",
       "<!-- 4424118832 -->\n",
       "<g id=\"node1\" class=\"node\">\n",
       "<title>4424118832</title>\n",
       "<polygon fill=\"none\" stroke=\"black\" points=\"630,-109.5 630,-145.5 816,-145.5 816,-109.5 630,-109.5\"/>\n",
       "<text text-anchor=\"middle\" x=\"640.25\" y=\"-122.7\" font-family=\"Times,serif\" font-size=\"14.00\">f</text>\n",
       "<polyline fill=\"none\" stroke=\"black\" points=\"650.5,-110 650.5,-145.5\"/>\n",
       "<text text-anchor=\"middle\" x=\"692.62\" y=\"-122.7\" font-family=\"Times,serif\" font-size=\"14.00\">data &#45;2.0000</text>\n",
       "<polyline fill=\"none\" stroke=\"black\" points=\"734.75,-110 734.75,-145.5\"/>\n",
       "<text text-anchor=\"middle\" x=\"775.38\" y=\"-122.7\" font-family=\"Times,serif\" font-size=\"14.00\">grad 0.0000</text>\n",
       "</g>\n",
       "<!-- 4424119024* -->\n",
       "<g id=\"node3\" class=\"node\">\n",
       "<title>4424119024*</title>\n",
       "<ellipse fill=\"none\" stroke=\"black\" cx=\"879\" cy=\"-99.5\" rx=\"27\" ry=\"18\"/>\n",
       "<text text-anchor=\"middle\" x=\"879\" y=\"-94.45\" font-family=\"Times,serif\" font-size=\"14.00\">*</text>\n",
       "</g>\n",
       "<!-- 4424118832&#45;&gt;4424119024* -->\n",
       "<g id=\"edge5\" class=\"edge\">\n",
       "<title>4424118832&#45;&gt;4424119024*</title>\n",
       "<path fill=\"none\" stroke=\"black\" d=\"M816.25,-110.73C825.1,-109.12 833.67,-107.56 841.46,-106.14\"/>\n",
       "<polygon fill=\"black\" stroke=\"black\" points=\"841.93,-109.62 851.15,-104.38 840.68,-102.73 841.93,-109.62\"/>\n",
       "</g>\n",
       "<!-- 4424119024 -->\n",
       "<g id=\"node2\" class=\"node\">\n",
       "<title>4424119024</title>\n",
       "<polygon fill=\"none\" stroke=\"black\" points=\"942,-81.5 942,-117.5 1131.75,-117.5 1131.75,-81.5 942,-81.5\"/>\n",
       "<text text-anchor=\"middle\" x=\"954.12\" y=\"-94.7\" font-family=\"Times,serif\" font-size=\"14.00\">L</text>\n",
       "<polyline fill=\"none\" stroke=\"black\" points=\"966.25,-82 966.25,-117.5\"/>\n",
       "<text text-anchor=\"middle\" x=\"1008.38\" y=\"-94.7\" font-family=\"Times,serif\" font-size=\"14.00\">data &#45;8.0000</text>\n",
       "<polyline fill=\"none\" stroke=\"black\" points=\"1050.5,-82 1050.5,-117.5\"/>\n",
       "<text text-anchor=\"middle\" x=\"1091.12\" y=\"-94.7\" font-family=\"Times,serif\" font-size=\"14.00\">grad 0.0000</text>\n",
       "</g>\n",
       "<!-- 4424119024*&#45;&gt;4424119024 -->\n",
       "<g id=\"edge1\" class=\"edge\">\n",
       "<title>4424119024*&#45;&gt;4424119024</title>\n",
       "<path fill=\"none\" stroke=\"black\" d=\"M906.44,-99.5C913.59,-99.5 921.78,-99.5 930.49,-99.5\"/>\n",
       "<polygon fill=\"black\" stroke=\"black\" points=\"930.26,-103 940.26,-99.5 930.26,-96 930.26,-103\"/>\n",
       "</g>\n",
       "<!-- 4423454496 -->\n",
       "<g id=\"node4\" class=\"node\">\n",
       "<title>4423454496</title>\n",
       "<polygon fill=\"none\" stroke=\"black\" points=\"314.25,-82.5 314.25,-118.5 504,-118.5 504,-82.5 314.25,-82.5\"/>\n",
       "<text text-anchor=\"middle\" x=\"325.25\" y=\"-95.7\" font-family=\"Times,serif\" font-size=\"14.00\">c</text>\n",
       "<polyline fill=\"none\" stroke=\"black\" points=\"336.25,-83 336.25,-118.5\"/>\n",
       "<text text-anchor=\"middle\" x=\"379.5\" y=\"-95.7\" font-family=\"Times,serif\" font-size=\"14.00\">data 10.0000</text>\n",
       "<polyline fill=\"none\" stroke=\"black\" points=\"422.75,-83 422.75,-118.5\"/>\n",
       "<text text-anchor=\"middle\" x=\"463.38\" y=\"-95.7\" font-family=\"Times,serif\" font-size=\"14.00\">grad 0.0000</text>\n",
       "</g>\n",
       "<!-- 4424118592+ -->\n",
       "<g id=\"node6\" class=\"node\">\n",
       "<title>4424118592+</title>\n",
       "<ellipse fill=\"none\" stroke=\"black\" cx=\"567\" cy=\"-72.5\" rx=\"27\" ry=\"18\"/>\n",
       "<text text-anchor=\"middle\" x=\"567\" y=\"-67.45\" font-family=\"Times,serif\" font-size=\"14.00\">+</text>\n",
       "</g>\n",
       "<!-- 4423454496&#45;&gt;4424118592+ -->\n",
       "<g id=\"edge8\" class=\"edge\">\n",
       "<title>4423454496&#45;&gt;4424118592+</title>\n",
       "<path fill=\"none\" stroke=\"black\" d=\"M504.39,-83.57C513.16,-81.99 521.65,-80.47 529.37,-79.08\"/>\n",
       "<polygon fill=\"black\" stroke=\"black\" points=\"529.73,-82.57 538.95,-77.36 528.49,-75.68 529.73,-82.57\"/>\n",
       "</g>\n",
       "<!-- 4424118592 -->\n",
       "<g id=\"node5\" class=\"node\">\n",
       "<title>4424118592</title>\n",
       "<polygon fill=\"none\" stroke=\"black\" points=\"631.12,-54.5 631.12,-90.5 814.88,-90.5 814.88,-54.5 631.12,-54.5\"/>\n",
       "<text text-anchor=\"middle\" x=\"642.5\" y=\"-67.7\" font-family=\"Times,serif\" font-size=\"14.00\">d</text>\n",
       "<polyline fill=\"none\" stroke=\"black\" points=\"653.88,-55 653.88,-90.5\"/>\n",
       "<text text-anchor=\"middle\" x=\"693.75\" y=\"-67.7\" font-family=\"Times,serif\" font-size=\"14.00\">data 4.0000</text>\n",
       "<polyline fill=\"none\" stroke=\"black\" points=\"733.62,-55 733.62,-90.5\"/>\n",
       "<text text-anchor=\"middle\" x=\"774.25\" y=\"-67.7\" font-family=\"Times,serif\" font-size=\"14.00\">grad 0.0000</text>\n",
       "</g>\n",
       "<!-- 4424118592&#45;&gt;4424119024* -->\n",
       "<g id=\"edge6\" class=\"edge\">\n",
       "<title>4424118592&#45;&gt;4424119024*</title>\n",
       "<path fill=\"none\" stroke=\"black\" d=\"M815.36,-88.52C824.5,-90.12 833.36,-91.67 841.4,-93.08\"/>\n",
       "<polygon fill=\"black\" stroke=\"black\" points=\"840.58,-96.49 851.04,-94.77 841.79,-89.6 840.58,-96.49\"/>\n",
       "</g>\n",
       "<!-- 4424118592+&#45;&gt;4424118592 -->\n",
       "<g id=\"edge2\" class=\"edge\">\n",
       "<title>4424118592+&#45;&gt;4424118592</title>\n",
       "<path fill=\"none\" stroke=\"black\" d=\"M594.47,-72.5C601.87,-72.5 610.38,-72.5 619.43,-72.5\"/>\n",
       "<polygon fill=\"black\" stroke=\"black\" points=\"619.17,-76 629.17,-72.5 619.17,-69 619.17,-76\"/>\n",
       "</g>\n",
       "<!-- 4392288224 -->\n",
       "<g id=\"node7\" class=\"node\">\n",
       "<title>4392288224</title>\n",
       "<polygon fill=\"none\" stroke=\"black\" points=\"2.62,-55.5 2.62,-91.5 185.62,-91.5 185.62,-55.5 2.62,-55.5\"/>\n",
       "<text text-anchor=\"middle\" x=\"13.62\" y=\"-68.7\" font-family=\"Times,serif\" font-size=\"14.00\">a</text>\n",
       "<polyline fill=\"none\" stroke=\"black\" points=\"24.62,-56 24.62,-91.5\"/>\n",
       "<text text-anchor=\"middle\" x=\"64.5\" y=\"-68.7\" font-family=\"Times,serif\" font-size=\"14.00\">data 2.0000</text>\n",
       "<polyline fill=\"none\" stroke=\"black\" points=\"104.38,-56 104.38,-91.5\"/>\n",
       "<text text-anchor=\"middle\" x=\"145\" y=\"-68.7\" font-family=\"Times,serif\" font-size=\"14.00\">grad 0.0000</text>\n",
       "</g>\n",
       "<!-- 4424114656* -->\n",
       "<g id=\"node10\" class=\"node\">\n",
       "<title>4424114656*</title>\n",
       "<ellipse fill=\"none\" stroke=\"black\" cx=\"251.25\" cy=\"-45.5\" rx=\"27\" ry=\"18\"/>\n",
       "<text text-anchor=\"middle\" x=\"251.25\" y=\"-40.45\" font-family=\"Times,serif\" font-size=\"14.00\">*</text>\n",
       "</g>\n",
       "<!-- 4392288224&#45;&gt;4424114656* -->\n",
       "<g id=\"edge9\" class=\"edge\">\n",
       "<title>4392288224&#45;&gt;4424114656*</title>\n",
       "<path fill=\"none\" stroke=\"black\" d=\"M185.81,-57.13C195.66,-55.35 205.21,-53.63 213.82,-52.08\"/>\n",
       "<polygon fill=\"black\" stroke=\"black\" points=\"214.19,-55.57 223.41,-50.34 212.95,-48.68 214.19,-55.57\"/>\n",
       "</g>\n",
       "<!-- 4423102832 -->\n",
       "<g id=\"node8\" class=\"node\">\n",
       "<title>4423102832</title>\n",
       "<polygon fill=\"none\" stroke=\"black\" points=\"0,-0.5 0,-36.5 188.25,-36.5 188.25,-0.5 0,-0.5\"/>\n",
       "<text text-anchor=\"middle\" x=\"11.38\" y=\"-13.7\" font-family=\"Times,serif\" font-size=\"14.00\">b</text>\n",
       "<polyline fill=\"none\" stroke=\"black\" points=\"22.75,-1 22.75,-36.5\"/>\n",
       "<text text-anchor=\"middle\" x=\"64.88\" y=\"-13.7\" font-family=\"Times,serif\" font-size=\"14.00\">data &#45;3.0000</text>\n",
       "<polyline fill=\"none\" stroke=\"black\" points=\"107,-1 107,-36.5\"/>\n",
       "<text text-anchor=\"middle\" x=\"147.62\" y=\"-13.7\" font-family=\"Times,serif\" font-size=\"14.00\">grad 0.0000</text>\n",
       "</g>\n",
       "<!-- 4423102832&#45;&gt;4424114656* -->\n",
       "<g id=\"edge7\" class=\"edge\">\n",
       "<title>4423102832&#45;&gt;4424114656*</title>\n",
       "<path fill=\"none\" stroke=\"black\" d=\"M188.49,-34.75C197.27,-36.28 205.77,-37.76 213.51,-39.1\"/>\n",
       "<polygon fill=\"black\" stroke=\"black\" points=\"212.66,-42.51 223.11,-40.78 213.86,-35.61 212.66,-42.51\"/>\n",
       "</g>\n",
       "<!-- 4424114656 -->\n",
       "<g id=\"node9\" class=\"node\">\n",
       "<title>4424114656</title>\n",
       "<polygon fill=\"none\" stroke=\"black\" points=\"315.38,-27.5 315.38,-63.5 502.88,-63.5 502.88,-27.5 315.38,-27.5\"/>\n",
       "<text text-anchor=\"middle\" x=\"326.38\" y=\"-40.7\" font-family=\"Times,serif\" font-size=\"14.00\">e</text>\n",
       "<polyline fill=\"none\" stroke=\"black\" points=\"337.38,-28 337.38,-63.5\"/>\n",
       "<text text-anchor=\"middle\" x=\"379.5\" y=\"-40.7\" font-family=\"Times,serif\" font-size=\"14.00\">data &#45;6.0000</text>\n",
       "<polyline fill=\"none\" stroke=\"black\" points=\"421.62,-28 421.62,-63.5\"/>\n",
       "<text text-anchor=\"middle\" x=\"462.25\" y=\"-40.7\" font-family=\"Times,serif\" font-size=\"14.00\">grad 0.0000</text>\n",
       "</g>\n",
       "<!-- 4424114656&#45;&gt;4424118592+ -->\n",
       "<g id=\"edge4\" class=\"edge\">\n",
       "<title>4424114656&#45;&gt;4424118592+</title>\n",
       "<path fill=\"none\" stroke=\"black\" d=\"M503.05,-61.6C512.25,-63.19 521.16,-64.73 529.24,-66.13\"/>\n",
       "<polygon fill=\"black\" stroke=\"black\" points=\"528.48,-69.55 538.93,-67.81 529.68,-62.66 528.48,-69.55\"/>\n",
       "</g>\n",
       "<!-- 4424114656*&#45;&gt;4424114656 -->\n",
       "<g id=\"edge3\" class=\"edge\">\n",
       "<title>4424114656*&#45;&gt;4424114656</title>\n",
       "<path fill=\"none\" stroke=\"black\" d=\"M278.69,-45.5C286.1,-45.5 294.64,-45.5 303.71,-45.5\"/>\n",
       "<polygon fill=\"black\" stroke=\"black\" points=\"303.51,-49 313.51,-45.5 303.51,-42 303.51,-49\"/>\n",
       "</g>\n",
       "</g>\n",
       "</svg>\n"
      ],
      "text/plain": [
       "<graphviz.graphs.Digraph at 0x107b2b7d0>"
      ]
     },
     "execution_count": 17,
     "metadata": {},
     "output_type": "execute_result"
    }
   ],
   "source": [
    "draw_dot(L)"
   ]
  },
  {
   "cell_type": "markdown",
   "metadata": {},
   "source": [
    "#### Filling in the gradients, manual backpropagation"
   ]
  },
  {
   "cell_type": "code",
   "execution_count": 18,
   "metadata": {},
   "outputs": [],
   "source": [
    "L.grad = 1 # because L is already the starting point, so derivative is 1 w.r.t. itself, no? yes."
   ]
  },
  {
   "cell_type": "code",
   "execution_count": 19,
   "metadata": {},
   "outputs": [
    {
     "name": "stdout",
     "output_type": "stream",
     "text": [
      "6.000000000021544\n"
     ]
    }
   ],
   "source": [
    "def lol(): # this fn is like a staging area for backprop, the Value class was getting quite long\n",
    "    h = 0.0001 # adding a small amount of h\n",
    "\n",
    "    a = Value(2.0, label='a')\n",
    "    b = Value(-3.0, label='b')\n",
    "    c = Value (10.0, label='c')\n",
    "    e = a*b; e.label = 'e'\n",
    "    d = e + c; d.label = 'd'\n",
    "    f = Value(-2.0, label='f')\n",
    "    L = d * f; L.label = 'L'\n",
    "    L1 = L.data\n",
    "\n",
    "    a = Value(2.0 + h, label='a') # adding h to a, measuring the deriative of L w.r.t. a\n",
    "    b = Value(-3.0, label='b')\n",
    "    c = Value (10.0, label='c')\n",
    "    e = a*b; e.label = 'e'\n",
    "    d = e + c; d.label = 'd'\n",
    "    f = Value(-2.0, label='f')\n",
    "    L = d * f; L.label = 'L'\n",
    "    L2 = L.data\n",
    "\n",
    "    print((L2 - L1) / h) # rise over run (deriative of L w.r.t. a)\n",
    "\n",
    "lol()"
   ]
  },
  {
   "cell_type": "markdown",
   "metadata": {},
   "source": [
    "---\n",
    "Now, let's look at the derivatives of L w.r.t. d and f.\n",
    "\n",
    "L = d * f<br>\n",
    "we want to know what dL/dd is.\n",
    "\n",
    "dL/dd = ?\n",
    "\n",
    "definition of derivative is: (f(x+h) - f(x)) / h\n",
    "\n",
    "=> ((d+h)*f - d*f / h (by the way, this f is not the f of `fx` used for the derivative notation.)</br> \n",
    "=> (d*f + h*f - d*f) / h<br>\n",
    "=> f\n",
    "\n",
    "Similarly, dL/df will be just `d`. Gradient for one is basically the value of the other (for d and f)."
   ]
  },
  {
   "cell_type": "code",
   "execution_count": 20,
   "metadata": {},
   "outputs": [],
   "source": [
    "f.grad = 4.0\n",
    "d.grad = -2.0 # manually setting"
   ]
  },
  {
   "cell_type": "code",
   "execution_count": 21,
   "metadata": {},
   "outputs": [
    {
     "data": {
      "image/svg+xml": [
       "<?xml version=\"1.0\" encoding=\"UTF-8\" standalone=\"no\"?>\n",
       "<!DOCTYPE svg PUBLIC \"-//W3C//DTD SVG 1.1//EN\"\n",
       " \"http://www.w3.org/Graphics/SVG/1.1/DTD/svg11.dtd\">\n",
       "<!-- Generated by graphviz version 12.0.0 (20240704.0754)\n",
       " -->\n",
       "<!-- Pages: 1 -->\n",
       "<svg width=\"1142pt\" height=\"154pt\"\n",
       " viewBox=\"0.00 0.00 1142.00 154.00\" xmlns=\"http://www.w3.org/2000/svg\" xmlns:xlink=\"http://www.w3.org/1999/xlink\">\n",
       "<g id=\"graph0\" class=\"graph\" transform=\"scale(1 1) rotate(0) translate(4 150)\">\n",
       "<polygon fill=\"white\" stroke=\"none\" points=\"-4,4 -4,-150 1138,-150 1138,4 -4,4\"/>\n",
       "<!-- 4424118832 -->\n",
       "<g id=\"node1\" class=\"node\">\n",
       "<title>4424118832</title>\n",
       "<polygon fill=\"none\" stroke=\"black\" points=\"631.12,-109.5 631.12,-145.5 817.12,-145.5 817.12,-109.5 631.12,-109.5\"/>\n",
       "<text text-anchor=\"middle\" x=\"641.38\" y=\"-122.7\" font-family=\"Times,serif\" font-size=\"14.00\">f</text>\n",
       "<polyline fill=\"none\" stroke=\"black\" points=\"651.62,-110 651.62,-145.5\"/>\n",
       "<text text-anchor=\"middle\" x=\"693.75\" y=\"-122.7\" font-family=\"Times,serif\" font-size=\"14.00\">data &#45;2.0000</text>\n",
       "<polyline fill=\"none\" stroke=\"black\" points=\"735.88,-110 735.88,-145.5\"/>\n",
       "<text text-anchor=\"middle\" x=\"776.5\" y=\"-122.7\" font-family=\"Times,serif\" font-size=\"14.00\">grad 4.0000</text>\n",
       "</g>\n",
       "<!-- 4424119024* -->\n",
       "<g id=\"node3\" class=\"node\">\n",
       "<title>4424119024*</title>\n",
       "<ellipse fill=\"none\" stroke=\"black\" cx=\"881.25\" cy=\"-99.5\" rx=\"27\" ry=\"18\"/>\n",
       "<text text-anchor=\"middle\" x=\"881.25\" y=\"-94.45\" font-family=\"Times,serif\" font-size=\"14.00\">*</text>\n",
       "</g>\n",
       "<!-- 4424118832&#45;&gt;4424119024* -->\n",
       "<g id=\"edge5\" class=\"edge\">\n",
       "<title>4424118832&#45;&gt;4424119024*</title>\n",
       "<path fill=\"none\" stroke=\"black\" d=\"M817.6,-110.81C826.76,-109.16 835.62,-107.56 843.67,-106.1\"/>\n",
       "<polygon fill=\"black\" stroke=\"black\" points=\"844.09,-109.58 853.31,-104.36 842.84,-102.7 844.09,-109.58\"/>\n",
       "</g>\n",
       "<!-- 4424119024 -->\n",
       "<g id=\"node2\" class=\"node\">\n",
       "<title>4424119024</title>\n",
       "<polygon fill=\"none\" stroke=\"black\" points=\"944.25,-81.5 944.25,-117.5 1134,-117.5 1134,-81.5 944.25,-81.5\"/>\n",
       "<text text-anchor=\"middle\" x=\"956.38\" y=\"-94.7\" font-family=\"Times,serif\" font-size=\"14.00\">L</text>\n",
       "<polyline fill=\"none\" stroke=\"black\" points=\"968.5,-82 968.5,-117.5\"/>\n",
       "<text text-anchor=\"middle\" x=\"1010.62\" y=\"-94.7\" font-family=\"Times,serif\" font-size=\"14.00\">data &#45;8.0000</text>\n",
       "<polyline fill=\"none\" stroke=\"black\" points=\"1052.75,-82 1052.75,-117.5\"/>\n",
       "<text text-anchor=\"middle\" x=\"1093.38\" y=\"-94.7\" font-family=\"Times,serif\" font-size=\"14.00\">grad 1.0000</text>\n",
       "</g>\n",
       "<!-- 4424119024*&#45;&gt;4424119024 -->\n",
       "<g id=\"edge1\" class=\"edge\">\n",
       "<title>4424119024*&#45;&gt;4424119024</title>\n",
       "<path fill=\"none\" stroke=\"black\" d=\"M908.69,-99.5C915.84,-99.5 924.03,-99.5 932.74,-99.5\"/>\n",
       "<polygon fill=\"black\" stroke=\"black\" points=\"932.51,-103 942.51,-99.5 932.51,-96 932.51,-103\"/>\n",
       "</g>\n",
       "<!-- 4423454496 -->\n",
       "<g id=\"node4\" class=\"node\">\n",
       "<title>4423454496</title>\n",
       "<polygon fill=\"none\" stroke=\"black\" points=\"314.25,-82.5 314.25,-118.5 504,-118.5 504,-82.5 314.25,-82.5\"/>\n",
       "<text text-anchor=\"middle\" x=\"325.25\" y=\"-95.7\" font-family=\"Times,serif\" font-size=\"14.00\">c</text>\n",
       "<polyline fill=\"none\" stroke=\"black\" points=\"336.25,-83 336.25,-118.5\"/>\n",
       "<text text-anchor=\"middle\" x=\"379.5\" y=\"-95.7\" font-family=\"Times,serif\" font-size=\"14.00\">data 10.0000</text>\n",
       "<polyline fill=\"none\" stroke=\"black\" points=\"422.75,-83 422.75,-118.5\"/>\n",
       "<text text-anchor=\"middle\" x=\"463.38\" y=\"-95.7\" font-family=\"Times,serif\" font-size=\"14.00\">grad 0.0000</text>\n",
       "</g>\n",
       "<!-- 4424118592+ -->\n",
       "<g id=\"node6\" class=\"node\">\n",
       "<title>4424118592+</title>\n",
       "<ellipse fill=\"none\" stroke=\"black\" cx=\"567\" cy=\"-72.5\" rx=\"27\" ry=\"18\"/>\n",
       "<text text-anchor=\"middle\" x=\"567\" y=\"-67.45\" font-family=\"Times,serif\" font-size=\"14.00\">+</text>\n",
       "</g>\n",
       "<!-- 4423454496&#45;&gt;4424118592+ -->\n",
       "<g id=\"edge8\" class=\"edge\">\n",
       "<title>4423454496&#45;&gt;4424118592+</title>\n",
       "<path fill=\"none\" stroke=\"black\" d=\"M504.39,-83.57C513.16,-81.99 521.65,-80.47 529.37,-79.08\"/>\n",
       "<polygon fill=\"black\" stroke=\"black\" points=\"529.73,-82.57 538.95,-77.36 528.49,-75.68 529.73,-82.57\"/>\n",
       "</g>\n",
       "<!-- 4424118592 -->\n",
       "<g id=\"node5\" class=\"node\">\n",
       "<title>4424118592</title>\n",
       "<polygon fill=\"none\" stroke=\"black\" points=\"630,-54.5 630,-90.5 818.25,-90.5 818.25,-54.5 630,-54.5\"/>\n",
       "<text text-anchor=\"middle\" x=\"641.38\" y=\"-67.7\" font-family=\"Times,serif\" font-size=\"14.00\">d</text>\n",
       "<polyline fill=\"none\" stroke=\"black\" points=\"652.75,-55 652.75,-90.5\"/>\n",
       "<text text-anchor=\"middle\" x=\"692.62\" y=\"-67.7\" font-family=\"Times,serif\" font-size=\"14.00\">data 4.0000</text>\n",
       "<polyline fill=\"none\" stroke=\"black\" points=\"732.5,-55 732.5,-90.5\"/>\n",
       "<text text-anchor=\"middle\" x=\"775.38\" y=\"-67.7\" font-family=\"Times,serif\" font-size=\"14.00\">grad &#45;2.0000</text>\n",
       "</g>\n",
       "<!-- 4424118592&#45;&gt;4424119024* -->\n",
       "<g id=\"edge6\" class=\"edge\">\n",
       "<title>4424118592&#45;&gt;4424119024*</title>\n",
       "<path fill=\"none\" stroke=\"black\" d=\"M818.49,-88.75C827.27,-90.28 835.77,-91.76 843.51,-93.1\"/>\n",
       "<polygon fill=\"black\" stroke=\"black\" points=\"842.66,-96.51 853.11,-94.78 843.86,-89.61 842.66,-96.51\"/>\n",
       "</g>\n",
       "<!-- 4424118592+&#45;&gt;4424118592 -->\n",
       "<g id=\"edge2\" class=\"edge\">\n",
       "<title>4424118592+&#45;&gt;4424118592</title>\n",
       "<path fill=\"none\" stroke=\"black\" d=\"M594.31,-72.5C601.49,-72.5 609.72,-72.5 618.47,-72.5\"/>\n",
       "<polygon fill=\"black\" stroke=\"black\" points=\"618.29,-76 628.29,-72.5 618.29,-69 618.29,-76\"/>\n",
       "</g>\n",
       "<!-- 4392288224 -->\n",
       "<g id=\"node7\" class=\"node\">\n",
       "<title>4392288224</title>\n",
       "<polygon fill=\"none\" stroke=\"black\" points=\"2.62,-55.5 2.62,-91.5 185.62,-91.5 185.62,-55.5 2.62,-55.5\"/>\n",
       "<text text-anchor=\"middle\" x=\"13.62\" y=\"-68.7\" font-family=\"Times,serif\" font-size=\"14.00\">a</text>\n",
       "<polyline fill=\"none\" stroke=\"black\" points=\"24.62,-56 24.62,-91.5\"/>\n",
       "<text text-anchor=\"middle\" x=\"64.5\" y=\"-68.7\" font-family=\"Times,serif\" font-size=\"14.00\">data 2.0000</text>\n",
       "<polyline fill=\"none\" stroke=\"black\" points=\"104.38,-56 104.38,-91.5\"/>\n",
       "<text text-anchor=\"middle\" x=\"145\" y=\"-68.7\" font-family=\"Times,serif\" font-size=\"14.00\">grad 0.0000</text>\n",
       "</g>\n",
       "<!-- 4424114656* -->\n",
       "<g id=\"node10\" class=\"node\">\n",
       "<title>4424114656*</title>\n",
       "<ellipse fill=\"none\" stroke=\"black\" cx=\"251.25\" cy=\"-45.5\" rx=\"27\" ry=\"18\"/>\n",
       "<text text-anchor=\"middle\" x=\"251.25\" y=\"-40.45\" font-family=\"Times,serif\" font-size=\"14.00\">*</text>\n",
       "</g>\n",
       "<!-- 4392288224&#45;&gt;4424114656* -->\n",
       "<g id=\"edge9\" class=\"edge\">\n",
       "<title>4392288224&#45;&gt;4424114656*</title>\n",
       "<path fill=\"none\" stroke=\"black\" d=\"M185.81,-57.13C195.66,-55.35 205.21,-53.63 213.82,-52.08\"/>\n",
       "<polygon fill=\"black\" stroke=\"black\" points=\"214.19,-55.57 223.41,-50.34 212.95,-48.68 214.19,-55.57\"/>\n",
       "</g>\n",
       "<!-- 4423102832 -->\n",
       "<g id=\"node8\" class=\"node\">\n",
       "<title>4423102832</title>\n",
       "<polygon fill=\"none\" stroke=\"black\" points=\"0,-0.5 0,-36.5 188.25,-36.5 188.25,-0.5 0,-0.5\"/>\n",
       "<text text-anchor=\"middle\" x=\"11.38\" y=\"-13.7\" font-family=\"Times,serif\" font-size=\"14.00\">b</text>\n",
       "<polyline fill=\"none\" stroke=\"black\" points=\"22.75,-1 22.75,-36.5\"/>\n",
       "<text text-anchor=\"middle\" x=\"64.88\" y=\"-13.7\" font-family=\"Times,serif\" font-size=\"14.00\">data &#45;3.0000</text>\n",
       "<polyline fill=\"none\" stroke=\"black\" points=\"107,-1 107,-36.5\"/>\n",
       "<text text-anchor=\"middle\" x=\"147.62\" y=\"-13.7\" font-family=\"Times,serif\" font-size=\"14.00\">grad 0.0000</text>\n",
       "</g>\n",
       "<!-- 4423102832&#45;&gt;4424114656* -->\n",
       "<g id=\"edge7\" class=\"edge\">\n",
       "<title>4423102832&#45;&gt;4424114656*</title>\n",
       "<path fill=\"none\" stroke=\"black\" d=\"M188.49,-34.75C197.27,-36.28 205.77,-37.76 213.51,-39.1\"/>\n",
       "<polygon fill=\"black\" stroke=\"black\" points=\"212.66,-42.51 223.11,-40.78 213.86,-35.61 212.66,-42.51\"/>\n",
       "</g>\n",
       "<!-- 4424114656 -->\n",
       "<g id=\"node9\" class=\"node\">\n",
       "<title>4424114656</title>\n",
       "<polygon fill=\"none\" stroke=\"black\" points=\"315.38,-27.5 315.38,-63.5 502.88,-63.5 502.88,-27.5 315.38,-27.5\"/>\n",
       "<text text-anchor=\"middle\" x=\"326.38\" y=\"-40.7\" font-family=\"Times,serif\" font-size=\"14.00\">e</text>\n",
       "<polyline fill=\"none\" stroke=\"black\" points=\"337.38,-28 337.38,-63.5\"/>\n",
       "<text text-anchor=\"middle\" x=\"379.5\" y=\"-40.7\" font-family=\"Times,serif\" font-size=\"14.00\">data &#45;6.0000</text>\n",
       "<polyline fill=\"none\" stroke=\"black\" points=\"421.62,-28 421.62,-63.5\"/>\n",
       "<text text-anchor=\"middle\" x=\"462.25\" y=\"-40.7\" font-family=\"Times,serif\" font-size=\"14.00\">grad 0.0000</text>\n",
       "</g>\n",
       "<!-- 4424114656&#45;&gt;4424118592+ -->\n",
       "<g id=\"edge4\" class=\"edge\">\n",
       "<title>4424114656&#45;&gt;4424118592+</title>\n",
       "<path fill=\"none\" stroke=\"black\" d=\"M503.05,-61.6C512.25,-63.19 521.16,-64.73 529.24,-66.13\"/>\n",
       "<polygon fill=\"black\" stroke=\"black\" points=\"528.48,-69.55 538.93,-67.81 529.68,-62.66 528.48,-69.55\"/>\n",
       "</g>\n",
       "<!-- 4424114656*&#45;&gt;4424114656 -->\n",
       "<g id=\"edge3\" class=\"edge\">\n",
       "<title>4424114656*&#45;&gt;4424114656</title>\n",
       "<path fill=\"none\" stroke=\"black\" d=\"M278.69,-45.5C286.1,-45.5 294.64,-45.5 303.71,-45.5\"/>\n",
       "<polygon fill=\"black\" stroke=\"black\" points=\"303.51,-49 313.51,-45.5 303.51,-42 303.51,-49\"/>\n",
       "</g>\n",
       "</g>\n",
       "</svg>\n"
      ],
      "text/plain": [
       "<graphviz.graphs.Digraph at 0x107b2bfe0>"
      ]
     },
     "execution_count": 21,
     "metadata": {},
     "output_type": "execute_result"
    }
   ],
   "source": [
    "# redrawing what we have again\n",
    "draw_dot(L)"
   ]
  },
  {
   "cell_type": "markdown",
   "metadata": {},
   "source": [
    "We can numerically verify the gradients as well by adding h to the individual variables in the `lol()` function. "
   ]
  },
  {
   "attachments": {
    "image.png": {
     "image/png": "[encoded data removed]"
    }
   },
   "cell_type": "markdown",
   "metadata": {},
   "source": [
    "#### Most important part for this backpropagation\n",
    "\n",
    "dL / dc\n",
    "\n",
    "if we look at the figure, we can see that d affects L directly. c has a direct effect n d as well. which means obviously c has some kind of effect on L (not directly, but there is). How do we now figure out how c impacts L with this info?\n",
    "\n",
    "---\n",
    "Let's first try this with `dd/dc`.\n",
    "\n",
    "d = c + e<br>\n",
    "so, `dd/dc` is 1.0. ***\n",
    "\n",
    "In the same manner, `dd/de` is also 1.0.\n",
    "\n",
    "Let's call these local derivatives.\n",
    "\n",
    "![image.png](attachment:image.png)\n",
    "\n",
    "So, we know that L impacts d. We also know that c and e impact d. How do we put this info together?\n",
    "\n",
    "**Chain Rule**.\n",
    "\n",
    "$dy/dx = dy/du * du/dx$\n",
    "\n",
    "And in our case:\n",
    "\n",
    "WANT:<br>\n",
    "dL / dc\n",
    "\n",
    "KNOW:<br>\n",
    "dL / dd = -2.0 (from the graph)<br>\n",
    "dd / dc = 1.0 ***\n",
    "\n",
    "So, the chain rule tells us:\n",
    "\n",
    "$dL / dc = (dL / dd) * (dd / dc)$\n",
    "\n",
    "=> -2.0 ($dd/dc$ was 1, so we can even think that: $dL / dc = dL / dd$)"
   ]
  },
  {
   "cell_type": "code",
   "execution_count": 22,
   "metadata": {},
   "outputs": [],
   "source": [
    "# therefore:\n",
    "c.grad = -2.0\n",
    "e.grad = -2.0 # by symmetry (remember that dL / de was also 1.0?)"
   ]
  },
  {
   "cell_type": "code",
   "execution_count": 23,
   "metadata": {},
   "outputs": [
    {
     "data": {
      "image/svg+xml": [
       "<?xml version=\"1.0\" encoding=\"UTF-8\" standalone=\"no\"?>\n",
       "<!DOCTYPE svg PUBLIC \"-//W3C//DTD SVG 1.1//EN\"\n",
       " \"http://www.w3.org/Graphics/SVG/1.1/DTD/svg11.dtd\">\n",
       "<!-- Generated by graphviz version 12.0.0 (20240704.0754)\n",
       " -->\n",
       "<!-- Pages: 1 -->\n",
       "<svg width=\"1147pt\" height=\"154pt\"\n",
       " viewBox=\"0.00 0.00 1146.50 154.00\" xmlns=\"http://www.w3.org/2000/svg\" xmlns:xlink=\"http://www.w3.org/1999/xlink\">\n",
       "<g id=\"graph0\" class=\"graph\" transform=\"scale(1 1) rotate(0) translate(4 150)\">\n",
       "<polygon fill=\"white\" stroke=\"none\" points=\"-4,4 -4,-150 1142.5,-150 1142.5,4 -4,4\"/>\n",
       "<!-- 4424118832 -->\n",
       "<g id=\"node1\" class=\"node\">\n",
       "<title>4424118832</title>\n",
       "<polygon fill=\"none\" stroke=\"black\" points=\"635.62,-109.5 635.62,-145.5 821.62,-145.5 821.62,-109.5 635.62,-109.5\"/>\n",
       "<text text-anchor=\"middle\" x=\"645.88\" y=\"-122.7\" font-family=\"Times,serif\" font-size=\"14.00\">f</text>\n",
       "<polyline fill=\"none\" stroke=\"black\" points=\"656.12,-110 656.12,-145.5\"/>\n",
       "<text text-anchor=\"middle\" x=\"698.25\" y=\"-122.7\" font-family=\"Times,serif\" font-size=\"14.00\">data &#45;2.0000</text>\n",
       "<polyline fill=\"none\" stroke=\"black\" points=\"740.38,-110 740.38,-145.5\"/>\n",
       "<text text-anchor=\"middle\" x=\"781\" y=\"-122.7\" font-family=\"Times,serif\" font-size=\"14.00\">grad 4.0000</text>\n",
       "</g>\n",
       "<!-- 4424119024* -->\n",
       "<g id=\"node3\" class=\"node\">\n",
       "<title>4424119024*</title>\n",
       "<ellipse fill=\"none\" stroke=\"black\" cx=\"885.75\" cy=\"-99.5\" rx=\"27\" ry=\"18\"/>\n",
       "<text text-anchor=\"middle\" x=\"885.75\" y=\"-94.45\" font-family=\"Times,serif\" font-size=\"14.00\">*</text>\n",
       "</g>\n",
       "<!-- 4424118832&#45;&gt;4424119024* -->\n",
       "<g id=\"edge5\" class=\"edge\">\n",
       "<title>4424118832&#45;&gt;4424119024*</title>\n",
       "<path fill=\"none\" stroke=\"black\" d=\"M822.1,-110.81C831.26,-109.16 840.12,-107.56 848.17,-106.1\"/>\n",
       "<polygon fill=\"black\" stroke=\"black\" points=\"848.59,-109.58 857.81,-104.36 847.34,-102.7 848.59,-109.58\"/>\n",
       "</g>\n",
       "<!-- 4424119024 -->\n",
       "<g id=\"node2\" class=\"node\">\n",
       "<title>4424119024</title>\n",
       "<polygon fill=\"none\" stroke=\"black\" points=\"948.75,-81.5 948.75,-117.5 1138.5,-117.5 1138.5,-81.5 948.75,-81.5\"/>\n",
       "<text text-anchor=\"middle\" x=\"960.88\" y=\"-94.7\" font-family=\"Times,serif\" font-size=\"14.00\">L</text>\n",
       "<polyline fill=\"none\" stroke=\"black\" points=\"973,-82 973,-117.5\"/>\n",
       "<text text-anchor=\"middle\" x=\"1015.12\" y=\"-94.7\" font-family=\"Times,serif\" font-size=\"14.00\">data &#45;8.0000</text>\n",
       "<polyline fill=\"none\" stroke=\"black\" points=\"1057.25,-82 1057.25,-117.5\"/>\n",
       "<text text-anchor=\"middle\" x=\"1097.88\" y=\"-94.7\" font-family=\"Times,serif\" font-size=\"14.00\">grad 1.0000</text>\n",
       "</g>\n",
       "<!-- 4424119024*&#45;&gt;4424119024 -->\n",
       "<g id=\"edge1\" class=\"edge\">\n",
       "<title>4424119024*&#45;&gt;4424119024</title>\n",
       "<path fill=\"none\" stroke=\"black\" d=\"M913.19,-99.5C920.34,-99.5 928.53,-99.5 937.24,-99.5\"/>\n",
       "<polygon fill=\"black\" stroke=\"black\" points=\"937.01,-103 947.01,-99.5 937.01,-96 937.01,-103\"/>\n",
       "</g>\n",
       "<!-- 4423454496 -->\n",
       "<g id=\"node4\" class=\"node\">\n",
       "<title>4423454496</title>\n",
       "<polygon fill=\"none\" stroke=\"black\" points=\"314.25,-82.5 314.25,-118.5 508.5,-118.5 508.5,-82.5 314.25,-82.5\"/>\n",
       "<text text-anchor=\"middle\" x=\"325.25\" y=\"-95.7\" font-family=\"Times,serif\" font-size=\"14.00\">c</text>\n",
       "<polyline fill=\"none\" stroke=\"black\" points=\"336.25,-83 336.25,-118.5\"/>\n",
       "<text text-anchor=\"middle\" x=\"379.5\" y=\"-95.7\" font-family=\"Times,serif\" font-size=\"14.00\">data 10.0000</text>\n",
       "<polyline fill=\"none\" stroke=\"black\" points=\"422.75,-83 422.75,-118.5\"/>\n",
       "<text text-anchor=\"middle\" x=\"465.62\" y=\"-95.7\" font-family=\"Times,serif\" font-size=\"14.00\">grad &#45;2.0000</text>\n",
       "</g>\n",
       "<!-- 4424118592+ -->\n",
       "<g id=\"node6\" class=\"node\">\n",
       "<title>4424118592+</title>\n",
       "<ellipse fill=\"none\" stroke=\"black\" cx=\"571.5\" cy=\"-72.5\" rx=\"27\" ry=\"18\"/>\n",
       "<text text-anchor=\"middle\" x=\"571.5\" y=\"-67.45\" font-family=\"Times,serif\" font-size=\"14.00\">+</text>\n",
       "</g>\n",
       "<!-- 4423454496&#45;&gt;4424118592+ -->\n",
       "<g id=\"edge8\" class=\"edge\">\n",
       "<title>4423454496&#45;&gt;4424118592+</title>\n",
       "<path fill=\"none\" stroke=\"black\" d=\"M508.91,-83.41C517.71,-81.85 526.2,-80.34 533.92,-78.98\"/>\n",
       "<polygon fill=\"black\" stroke=\"black\" points=\"534.27,-82.47 543.5,-77.28 533.05,-75.58 534.27,-82.47\"/>\n",
       "</g>\n",
       "<!-- 4424118592 -->\n",
       "<g id=\"node5\" class=\"node\">\n",
       "<title>4424118592</title>\n",
       "<polygon fill=\"none\" stroke=\"black\" points=\"634.5,-54.5 634.5,-90.5 822.75,-90.5 822.75,-54.5 634.5,-54.5\"/>\n",
       "<text text-anchor=\"middle\" x=\"645.88\" y=\"-67.7\" font-family=\"Times,serif\" font-size=\"14.00\">d</text>\n",
       "<polyline fill=\"none\" stroke=\"black\" points=\"657.25,-55 657.25,-90.5\"/>\n",
       "<text text-anchor=\"middle\" x=\"697.12\" y=\"-67.7\" font-family=\"Times,serif\" font-size=\"14.00\">data 4.0000</text>\n",
       "<polyline fill=\"none\" stroke=\"black\" points=\"737,-55 737,-90.5\"/>\n",
       "<text text-anchor=\"middle\" x=\"779.88\" y=\"-67.7\" font-family=\"Times,serif\" font-size=\"14.00\">grad &#45;2.0000</text>\n",
       "</g>\n",
       "<!-- 4424118592&#45;&gt;4424119024* -->\n",
       "<g id=\"edge6\" class=\"edge\">\n",
       "<title>4424118592&#45;&gt;4424119024*</title>\n",
       "<path fill=\"none\" stroke=\"black\" d=\"M822.99,-88.75C831.77,-90.28 840.27,-91.76 848.01,-93.1\"/>\n",
       "<polygon fill=\"black\" stroke=\"black\" points=\"847.16,-96.51 857.61,-94.78 848.36,-89.61 847.16,-96.51\"/>\n",
       "</g>\n",
       "<!-- 4424118592+&#45;&gt;4424118592 -->\n",
       "<g id=\"edge2\" class=\"edge\">\n",
       "<title>4424118592+&#45;&gt;4424118592</title>\n",
       "<path fill=\"none\" stroke=\"black\" d=\"M598.81,-72.5C605.99,-72.5 614.22,-72.5 622.97,-72.5\"/>\n",
       "<polygon fill=\"black\" stroke=\"black\" points=\"622.79,-76 632.79,-72.5 622.79,-69 622.79,-76\"/>\n",
       "</g>\n",
       "<!-- 4392288224 -->\n",
       "<g id=\"node7\" class=\"node\">\n",
       "<title>4392288224</title>\n",
       "<polygon fill=\"none\" stroke=\"black\" points=\"2.62,-55.5 2.62,-91.5 185.62,-91.5 185.62,-55.5 2.62,-55.5\"/>\n",
       "<text text-anchor=\"middle\" x=\"13.62\" y=\"-68.7\" font-family=\"Times,serif\" font-size=\"14.00\">a</text>\n",
       "<polyline fill=\"none\" stroke=\"black\" points=\"24.62,-56 24.62,-91.5\"/>\n",
       "<text text-anchor=\"middle\" x=\"64.5\" y=\"-68.7\" font-family=\"Times,serif\" font-size=\"14.00\">data 2.0000</text>\n",
       "<polyline fill=\"none\" stroke=\"black\" points=\"104.38,-56 104.38,-91.5\"/>\n",
       "<text text-anchor=\"middle\" x=\"145\" y=\"-68.7\" font-family=\"Times,serif\" font-size=\"14.00\">grad 0.0000</text>\n",
       "</g>\n",
       "<!-- 4424114656* -->\n",
       "<g id=\"node10\" class=\"node\">\n",
       "<title>4424114656*</title>\n",
       "<ellipse fill=\"none\" stroke=\"black\" cx=\"251.25\" cy=\"-45.5\" rx=\"27\" ry=\"18\"/>\n",
       "<text text-anchor=\"middle\" x=\"251.25\" y=\"-40.45\" font-family=\"Times,serif\" font-size=\"14.00\">*</text>\n",
       "</g>\n",
       "<!-- 4392288224&#45;&gt;4424114656* -->\n",
       "<g id=\"edge9\" class=\"edge\">\n",
       "<title>4392288224&#45;&gt;4424114656*</title>\n",
       "<path fill=\"none\" stroke=\"black\" d=\"M185.81,-57.13C195.66,-55.35 205.21,-53.63 213.82,-52.08\"/>\n",
       "<polygon fill=\"black\" stroke=\"black\" points=\"214.19,-55.57 223.41,-50.34 212.95,-48.68 214.19,-55.57\"/>\n",
       "</g>\n",
       "<!-- 4423102832 -->\n",
       "<g id=\"node8\" class=\"node\">\n",
       "<title>4423102832</title>\n",
       "<polygon fill=\"none\" stroke=\"black\" points=\"0,-0.5 0,-36.5 188.25,-36.5 188.25,-0.5 0,-0.5\"/>\n",
       "<text text-anchor=\"middle\" x=\"11.38\" y=\"-13.7\" font-family=\"Times,serif\" font-size=\"14.00\">b</text>\n",
       "<polyline fill=\"none\" stroke=\"black\" points=\"22.75,-1 22.75,-36.5\"/>\n",
       "<text text-anchor=\"middle\" x=\"64.88\" y=\"-13.7\" font-family=\"Times,serif\" font-size=\"14.00\">data &#45;3.0000</text>\n",
       "<polyline fill=\"none\" stroke=\"black\" points=\"107,-1 107,-36.5\"/>\n",
       "<text text-anchor=\"middle\" x=\"147.62\" y=\"-13.7\" font-family=\"Times,serif\" font-size=\"14.00\">grad 0.0000</text>\n",
       "</g>\n",
       "<!-- 4423102832&#45;&gt;4424114656* -->\n",
       "<g id=\"edge7\" class=\"edge\">\n",
       "<title>4423102832&#45;&gt;4424114656*</title>\n",
       "<path fill=\"none\" stroke=\"black\" d=\"M188.49,-34.75C197.27,-36.28 205.77,-37.76 213.51,-39.1\"/>\n",
       "<polygon fill=\"black\" stroke=\"black\" points=\"212.66,-42.51 223.11,-40.78 213.86,-35.61 212.66,-42.51\"/>\n",
       "</g>\n",
       "<!-- 4424114656 -->\n",
       "<g id=\"node9\" class=\"node\">\n",
       "<title>4424114656</title>\n",
       "<polygon fill=\"none\" stroke=\"black\" points=\"315.38,-27.5 315.38,-63.5 507.38,-63.5 507.38,-27.5 315.38,-27.5\"/>\n",
       "<text text-anchor=\"middle\" x=\"326.38\" y=\"-40.7\" font-family=\"Times,serif\" font-size=\"14.00\">e</text>\n",
       "<polyline fill=\"none\" stroke=\"black\" points=\"337.38,-28 337.38,-63.5\"/>\n",
       "<text text-anchor=\"middle\" x=\"379.5\" y=\"-40.7\" font-family=\"Times,serif\" font-size=\"14.00\">data &#45;6.0000</text>\n",
       "<polyline fill=\"none\" stroke=\"black\" points=\"421.62,-28 421.62,-63.5\"/>\n",
       "<text text-anchor=\"middle\" x=\"464.5\" y=\"-40.7\" font-family=\"Times,serif\" font-size=\"14.00\">grad &#45;2.0000</text>\n",
       "</g>\n",
       "<!-- 4424114656&#45;&gt;4424118592+ -->\n",
       "<g id=\"edge4\" class=\"edge\">\n",
       "<title>4424114656&#45;&gt;4424118592+</title>\n",
       "<path fill=\"none\" stroke=\"black\" d=\"M507.55,-61.75C516.78,-63.33 525.7,-64.85 533.79,-66.23\"/>\n",
       "<polygon fill=\"black\" stroke=\"black\" points=\"533.03,-69.65 543.48,-67.89 534.21,-62.75 533.03,-69.65\"/>\n",
       "</g>\n",
       "<!-- 4424114656*&#45;&gt;4424114656 -->\n",
       "<g id=\"edge3\" class=\"edge\">\n",
       "<title>4424114656*&#45;&gt;4424114656</title>\n",
       "<path fill=\"none\" stroke=\"black\" d=\"M278.72,-45.5C286.09,-45.5 294.59,-45.5 303.63,-45.5\"/>\n",
       "<polygon fill=\"black\" stroke=\"black\" points=\"303.39,-49 313.39,-45.5 303.39,-42 303.39,-49\"/>\n",
       "</g>\n",
       "</g>\n",
       "</svg>\n"
      ],
      "text/plain": [
       "<graphviz.graphs.Digraph at 0x107ac79e0>"
      ]
     },
     "execution_count": 23,
     "metadata": {},
     "output_type": "execute_result"
    }
   ],
   "source": [
    "# now let's look at the graph again with these set gradients\n",
    "draw_dot(L)"
   ]
  },
  {
   "cell_type": "markdown",
   "metadata": {},
   "source": [
    "#### Recursing our way further backwards (`*`)"
   ]
  },
  {
   "cell_type": "markdown",
   "metadata": {},
   "source": [
    "WE KNOW:<br>\n",
    "dL / de = -2.0\n",
    "\n",
    "WE WANT:<br>\n",
    "dL / da\n",
    "\n",
    "This is basically:<br>\n",
    "$dL / da = (dL / de) * (de / da)$\n",
    "\n",
    "de / da = ?\n",
    "\n",
    "we know that: e = a * b\n",
    "\n",
    "$de / da = d(a * b) / da$<br>\n",
    "=> b (which is -3.0).\n",
    "\n",
    "<br>\n",
    "So,\n",
    "\n",
    "$dL / da = (dL / de) * (de / da)$\n",
    "\n",
    "$= (-2.0) * (b)$\n",
    "\n",
    "$= (-2.0) * (-3.0)$\n",
    "\n",
    "$= 6.0$"
   ]
  },
  {
   "cell_type": "code",
   "execution_count": 24,
   "metadata": {},
   "outputs": [],
   "source": [
    "# therefore:\n",
    "a.grad = (-2.0 * -3.0)\n",
    "b.grad = (-2.0 * 2.0) #by symmetry"
   ]
  },
  {
   "cell_type": "code",
   "execution_count": 25,
   "metadata": {},
   "outputs": [
    {
     "data": {
      "image/svg+xml": [
       "<?xml version=\"1.0\" encoding=\"UTF-8\" standalone=\"no\"?>\n",
       "<!DOCTYPE svg PUBLIC \"-//W3C//DTD SVG 1.1//EN\"\n",
       " \"http://www.w3.org/Graphics/SVG/1.1/DTD/svg11.dtd\">\n",
       "<!-- Generated by graphviz version 12.0.0 (20240704.0754)\n",
       " -->\n",
       "<!-- Pages: 1 -->\n",
       "<svg width=\"1151pt\" height=\"154pt\"\n",
       " viewBox=\"0.00 0.00 1151.00 154.00\" xmlns=\"http://www.w3.org/2000/svg\" xmlns:xlink=\"http://www.w3.org/1999/xlink\">\n",
       "<g id=\"graph0\" class=\"graph\" transform=\"scale(1 1) rotate(0) translate(4 150)\">\n",
       "<polygon fill=\"white\" stroke=\"none\" points=\"-4,4 -4,-150 1147,-150 1147,4 -4,4\"/>\n",
       "<!-- 4424118832 -->\n",
       "<g id=\"node1\" class=\"node\">\n",
       "<title>4424118832</title>\n",
       "<polygon fill=\"none\" stroke=\"black\" points=\"640.12,-109.5 640.12,-145.5 826.12,-145.5 826.12,-109.5 640.12,-109.5\"/>\n",
       "<text text-anchor=\"middle\" x=\"650.38\" y=\"-122.7\" font-family=\"Times,serif\" font-size=\"14.00\">f</text>\n",
       "<polyline fill=\"none\" stroke=\"black\" points=\"660.62,-110 660.62,-145.5\"/>\n",
       "<text text-anchor=\"middle\" x=\"702.75\" y=\"-122.7\" font-family=\"Times,serif\" font-size=\"14.00\">data &#45;2.0000</text>\n",
       "<polyline fill=\"none\" stroke=\"black\" points=\"744.88,-110 744.88,-145.5\"/>\n",
       "<text text-anchor=\"middle\" x=\"785.5\" y=\"-122.7\" font-family=\"Times,serif\" font-size=\"14.00\">grad 4.0000</text>\n",
       "</g>\n",
       "<!-- 4424119024* -->\n",
       "<g id=\"node3\" class=\"node\">\n",
       "<title>4424119024*</title>\n",
       "<ellipse fill=\"none\" stroke=\"black\" cx=\"890.25\" cy=\"-99.5\" rx=\"27\" ry=\"18\"/>\n",
       "<text text-anchor=\"middle\" x=\"890.25\" y=\"-94.45\" font-family=\"Times,serif\" font-size=\"14.00\">*</text>\n",
       "</g>\n",
       "<!-- 4424118832&#45;&gt;4424119024* -->\n",
       "<g id=\"edge5\" class=\"edge\">\n",
       "<title>4424118832&#45;&gt;4424119024*</title>\n",
       "<path fill=\"none\" stroke=\"black\" d=\"M826.6,-110.81C835.76,-109.16 844.62,-107.56 852.67,-106.1\"/>\n",
       "<polygon fill=\"black\" stroke=\"black\" points=\"853.09,-109.58 862.31,-104.36 851.84,-102.7 853.09,-109.58\"/>\n",
       "</g>\n",
       "<!-- 4424119024 -->\n",
       "<g id=\"node2\" class=\"node\">\n",
       "<title>4424119024</title>\n",
       "<polygon fill=\"none\" stroke=\"black\" points=\"953.25,-81.5 953.25,-117.5 1143,-117.5 1143,-81.5 953.25,-81.5\"/>\n",
       "<text text-anchor=\"middle\" x=\"965.38\" y=\"-94.7\" font-family=\"Times,serif\" font-size=\"14.00\">L</text>\n",
       "<polyline fill=\"none\" stroke=\"black\" points=\"977.5,-82 977.5,-117.5\"/>\n",
       "<text text-anchor=\"middle\" x=\"1019.62\" y=\"-94.7\" font-family=\"Times,serif\" font-size=\"14.00\">data &#45;8.0000</text>\n",
       "<polyline fill=\"none\" stroke=\"black\" points=\"1061.75,-82 1061.75,-117.5\"/>\n",
       "<text text-anchor=\"middle\" x=\"1102.38\" y=\"-94.7\" font-family=\"Times,serif\" font-size=\"14.00\">grad 1.0000</text>\n",
       "</g>\n",
       "<!-- 4424119024*&#45;&gt;4424119024 -->\n",
       "<g id=\"edge1\" class=\"edge\">\n",
       "<title>4424119024*&#45;&gt;4424119024</title>\n",
       "<path fill=\"none\" stroke=\"black\" d=\"M917.69,-99.5C924.84,-99.5 933.03,-99.5 941.74,-99.5\"/>\n",
       "<polygon fill=\"black\" stroke=\"black\" points=\"941.51,-103 951.51,-99.5 941.51,-96 941.51,-103\"/>\n",
       "</g>\n",
       "<!-- 4423454496 -->\n",
       "<g id=\"node4\" class=\"node\">\n",
       "<title>4423454496</title>\n",
       "<polygon fill=\"none\" stroke=\"black\" points=\"318.75,-82.5 318.75,-118.5 513,-118.5 513,-82.5 318.75,-82.5\"/>\n",
       "<text text-anchor=\"middle\" x=\"329.75\" y=\"-95.7\" font-family=\"Times,serif\" font-size=\"14.00\">c</text>\n",
       "<polyline fill=\"none\" stroke=\"black\" points=\"340.75,-83 340.75,-118.5\"/>\n",
       "<text text-anchor=\"middle\" x=\"384\" y=\"-95.7\" font-family=\"Times,serif\" font-size=\"14.00\">data 10.0000</text>\n",
       "<polyline fill=\"none\" stroke=\"black\" points=\"427.25,-83 427.25,-118.5\"/>\n",
       "<text text-anchor=\"middle\" x=\"470.12\" y=\"-95.7\" font-family=\"Times,serif\" font-size=\"14.00\">grad &#45;2.0000</text>\n",
       "</g>\n",
       "<!-- 4424118592+ -->\n",
       "<g id=\"node6\" class=\"node\">\n",
       "<title>4424118592+</title>\n",
       "<ellipse fill=\"none\" stroke=\"black\" cx=\"576\" cy=\"-72.5\" rx=\"27\" ry=\"18\"/>\n",
       "<text text-anchor=\"middle\" x=\"576\" y=\"-67.45\" font-family=\"Times,serif\" font-size=\"14.00\">+</text>\n",
       "</g>\n",
       "<!-- 4423454496&#45;&gt;4424118592+ -->\n",
       "<g id=\"edge8\" class=\"edge\">\n",
       "<title>4423454496&#45;&gt;4424118592+</title>\n",
       "<path fill=\"none\" stroke=\"black\" d=\"M513.41,-83.41C522.21,-81.85 530.7,-80.34 538.42,-78.98\"/>\n",
       "<polygon fill=\"black\" stroke=\"black\" points=\"538.77,-82.47 548,-77.28 537.55,-75.58 538.77,-82.47\"/>\n",
       "</g>\n",
       "<!-- 4424118592 -->\n",
       "<g id=\"node5\" class=\"node\">\n",
       "<title>4424118592</title>\n",
       "<polygon fill=\"none\" stroke=\"black\" points=\"639,-54.5 639,-90.5 827.25,-90.5 827.25,-54.5 639,-54.5\"/>\n",
       "<text text-anchor=\"middle\" x=\"650.38\" y=\"-67.7\" font-family=\"Times,serif\" font-size=\"14.00\">d</text>\n",
       "<polyline fill=\"none\" stroke=\"black\" points=\"661.75,-55 661.75,-90.5\"/>\n",
       "<text text-anchor=\"middle\" x=\"701.62\" y=\"-67.7\" font-family=\"Times,serif\" font-size=\"14.00\">data 4.0000</text>\n",
       "<polyline fill=\"none\" stroke=\"black\" points=\"741.5,-55 741.5,-90.5\"/>\n",
       "<text text-anchor=\"middle\" x=\"784.38\" y=\"-67.7\" font-family=\"Times,serif\" font-size=\"14.00\">grad &#45;2.0000</text>\n",
       "</g>\n",
       "<!-- 4424118592&#45;&gt;4424119024* -->\n",
       "<g id=\"edge6\" class=\"edge\">\n",
       "<title>4424118592&#45;&gt;4424119024*</title>\n",
       "<path fill=\"none\" stroke=\"black\" d=\"M827.49,-88.75C836.27,-90.28 844.77,-91.76 852.51,-93.1\"/>\n",
       "<polygon fill=\"black\" stroke=\"black\" points=\"851.66,-96.51 862.11,-94.78 852.86,-89.61 851.66,-96.51\"/>\n",
       "</g>\n",
       "<!-- 4424118592+&#45;&gt;4424118592 -->\n",
       "<g id=\"edge2\" class=\"edge\">\n",
       "<title>4424118592+&#45;&gt;4424118592</title>\n",
       "<path fill=\"none\" stroke=\"black\" d=\"M603.31,-72.5C610.49,-72.5 618.72,-72.5 627.47,-72.5\"/>\n",
       "<polygon fill=\"black\" stroke=\"black\" points=\"627.29,-76 637.29,-72.5 627.29,-69 627.29,-76\"/>\n",
       "</g>\n",
       "<!-- 4392288224 -->\n",
       "<g id=\"node7\" class=\"node\">\n",
       "<title>4392288224</title>\n",
       "<polygon fill=\"none\" stroke=\"black\" points=\"4.88,-55.5 4.88,-91.5 187.88,-91.5 187.88,-55.5 4.88,-55.5\"/>\n",
       "<text text-anchor=\"middle\" x=\"15.88\" y=\"-68.7\" font-family=\"Times,serif\" font-size=\"14.00\">a</text>\n",
       "<polyline fill=\"none\" stroke=\"black\" points=\"26.88,-56 26.88,-91.5\"/>\n",
       "<text text-anchor=\"middle\" x=\"66.75\" y=\"-68.7\" font-family=\"Times,serif\" font-size=\"14.00\">data 2.0000</text>\n",
       "<polyline fill=\"none\" stroke=\"black\" points=\"106.62,-56 106.62,-91.5\"/>\n",
       "<text text-anchor=\"middle\" x=\"147.25\" y=\"-68.7\" font-family=\"Times,serif\" font-size=\"14.00\">grad 6.0000</text>\n",
       "</g>\n",
       "<!-- 4424114656* -->\n",
       "<g id=\"node10\" class=\"node\">\n",
       "<title>4424114656*</title>\n",
       "<ellipse fill=\"none\" stroke=\"black\" cx=\"255.75\" cy=\"-45.5\" rx=\"27\" ry=\"18\"/>\n",
       "<text text-anchor=\"middle\" x=\"255.75\" y=\"-40.45\" font-family=\"Times,serif\" font-size=\"14.00\">*</text>\n",
       "</g>\n",
       "<!-- 4392288224&#45;&gt;4424114656* -->\n",
       "<g id=\"edge9\" class=\"edge\">\n",
       "<title>4392288224&#45;&gt;4424114656*</title>\n",
       "<path fill=\"none\" stroke=\"black\" d=\"M188.01,-57.37C198.67,-55.48 209.04,-53.63 218.3,-51.99\"/>\n",
       "<polygon fill=\"black\" stroke=\"black\" points=\"218.65,-55.48 227.88,-50.28 217.42,-48.59 218.65,-55.48\"/>\n",
       "</g>\n",
       "<!-- 4423102832 -->\n",
       "<g id=\"node8\" class=\"node\">\n",
       "<title>4423102832</title>\n",
       "<polygon fill=\"none\" stroke=\"black\" points=\"0,-0.5 0,-36.5 192.75,-36.5 192.75,-0.5 0,-0.5\"/>\n",
       "<text text-anchor=\"middle\" x=\"11.38\" y=\"-13.7\" font-family=\"Times,serif\" font-size=\"14.00\">b</text>\n",
       "<polyline fill=\"none\" stroke=\"black\" points=\"22.75,-1 22.75,-36.5\"/>\n",
       "<text text-anchor=\"middle\" x=\"64.88\" y=\"-13.7\" font-family=\"Times,serif\" font-size=\"14.00\">data &#45;3.0000</text>\n",
       "<polyline fill=\"none\" stroke=\"black\" points=\"107,-1 107,-36.5\"/>\n",
       "<text text-anchor=\"middle\" x=\"149.88\" y=\"-13.7\" font-family=\"Times,serif\" font-size=\"14.00\">grad &#45;4.0000</text>\n",
       "</g>\n",
       "<!-- 4423102832&#45;&gt;4424114656* -->\n",
       "<g id=\"edge7\" class=\"edge\">\n",
       "<title>4423102832&#45;&gt;4424114656*</title>\n",
       "<path fill=\"none\" stroke=\"black\" d=\"M193,-34.91C201.81,-36.42 210.32,-37.88 218.06,-39.2\"/>\n",
       "<polygon fill=\"black\" stroke=\"black\" points=\"217.21,-42.61 227.66,-40.85 218.4,-35.71 217.21,-42.61\"/>\n",
       "</g>\n",
       "<!-- 4424114656 -->\n",
       "<g id=\"node9\" class=\"node\">\n",
       "<title>4424114656</title>\n",
       "<polygon fill=\"none\" stroke=\"black\" points=\"319.88,-27.5 319.88,-63.5 511.88,-63.5 511.88,-27.5 319.88,-27.5\"/>\n",
       "<text text-anchor=\"middle\" x=\"330.88\" y=\"-40.7\" font-family=\"Times,serif\" font-size=\"14.00\">e</text>\n",
       "<polyline fill=\"none\" stroke=\"black\" points=\"341.88,-28 341.88,-63.5\"/>\n",
       "<text text-anchor=\"middle\" x=\"384\" y=\"-40.7\" font-family=\"Times,serif\" font-size=\"14.00\">data &#45;6.0000</text>\n",
       "<polyline fill=\"none\" stroke=\"black\" points=\"426.12,-28 426.12,-63.5\"/>\n",
       "<text text-anchor=\"middle\" x=\"469\" y=\"-40.7\" font-family=\"Times,serif\" font-size=\"14.00\">grad &#45;2.0000</text>\n",
       "</g>\n",
       "<!-- 4424114656&#45;&gt;4424118592+ -->\n",
       "<g id=\"edge4\" class=\"edge\">\n",
       "<title>4424114656&#45;&gt;4424118592+</title>\n",
       "<path fill=\"none\" stroke=\"black\" d=\"M512.05,-61.75C521.28,-63.33 530.2,-64.85 538.29,-66.23\"/>\n",
       "<polygon fill=\"black\" stroke=\"black\" points=\"537.53,-69.65 547.98,-67.89 538.71,-62.75 537.53,-69.65\"/>\n",
       "</g>\n",
       "<!-- 4424114656*&#45;&gt;4424114656 -->\n",
       "<g id=\"edge3\" class=\"edge\">\n",
       "<title>4424114656*&#45;&gt;4424114656</title>\n",
       "<path fill=\"none\" stroke=\"black\" d=\"M283.22,-45.5C290.59,-45.5 299.09,-45.5 308.13,-45.5\"/>\n",
       "<polygon fill=\"black\" stroke=\"black\" points=\"307.89,-49 317.89,-45.5 307.89,-42 307.89,-49\"/>\n",
       "</g>\n",
       "</g>\n",
       "</svg>\n"
      ],
      "text/plain": [
       "<graphviz.graphs.Digraph at 0x107aa8890>"
      ]
     },
     "execution_count": 25,
     "metadata": {},
     "output_type": "execute_result"
    }
   ],
   "source": [
    "# plotting\n",
    "draw_dot(L)"
   ]
  },
  {
   "cell_type": "markdown",
   "metadata": {},
   "source": [
    "This is basically what backpropagation is: iterating through all the nodes starting from the loss function L by locally applying the chain rule. So we just go through and recursively multiply on the local derivatives.\n",
    "\n",
    "In other words, backpropagation = recursive application of chain rule backwards through the computation graph.\n",
    "\n",
    "From wiki:\n",
    "> Backpropagation computes the gradient of a loss function with respect to the weights of the network for a single input–output example, and does so efficiently, computing the gradient one layer at a time, iterating backward from the last layer to avoid redundant calculations of intermediate terms in the chain rule."
   ]
  },
  {
   "cell_type": "markdown",
   "metadata": {},
   "source": [
    "---\n",
    "If we give the leaf nodes (basically the variables) a small nudge towards their gradients, we can expect a directly proportional effect on L. Let's have a look below."
   ]
  },
  {
   "cell_type": "code",
   "execution_count": 26,
   "metadata": {},
   "outputs": [
    {
     "name": "stdout",
     "output_type": "stream",
     "text": [
      "-7.286496\n"
     ]
    }
   ],
   "source": [
    "a.data += 0.01 * a.grad\n",
    "b.data += 0.01 * b.grad\n",
    "c.data += 0.01 * c.grad\n",
    "f.data += 0.01 * f.grad\n",
    "\n",
    "e = a * b\n",
    "d = e + c\n",
    "L = d * f\n",
    "\n",
    "print(L.data)"
   ]
  },
  {
   "cell_type": "markdown",
   "metadata": {},
   "source": [
    "A positive change in L's value brought by adding small fraction of individial leaf nodes' gradients to their initial values."
   ]
  },
  {
   "cell_type": "code",
   "execution_count": null,
   "metadata": {},
   "outputs": [],
   "source": []
  },
  {
   "cell_type": "markdown",
   "metadata": {},
   "source": [
    "#### Manual Backpropagation Example #2: **A Neuron**\n"
   ]
  },
  {
   "cell_type": "code",
   "execution_count": null,
   "metadata": {},
   "outputs": [],
   "source": []
  }
 ],
 "metadata": {
  "kernelspec": {
   "display_name": "venv_autograd",
   "language": "python",
   "name": "python3"
  },
  "language_info": {
   "codemirror_mode": {
    "name": "ipython",
    "version": 3
   },
   "file_extension": ".py",
   "mimetype": "text/x-python",
   "name": "python",
   "nbconvert_exporter": "python",
   "pygments_lexer": "ipython3",
   "version": "3.12.4"
  }
 },
 "nbformat": 4,
 "nbformat_minor": 2
}
